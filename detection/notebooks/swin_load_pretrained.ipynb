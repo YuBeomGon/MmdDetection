{
 "cells": [
  {
   "cell_type": "code",
   "execution_count": 1,
   "id": "44d75096-b59e-4f5c-b9fb-f3196f5772f1",
   "metadata": {},
   "outputs": [],
   "source": [
    "# Copyright (c) OpenMMLab. All rights reserved.\n",
    "import warnings\n",
    "from collections import OrderedDict\n",
    "from copy import deepcopy\n",
    "\n",
    "import torch\n",
    "import torch.nn as nn\n",
    "import torch.nn.functional as F\n",
    "import torch.utils.checkpoint as cp\n",
    "from mmcv.cnn import build_norm_layer, constant_init, trunc_normal_init\n",
    "from mmcv.cnn.bricks.transformer import FFN, build_dropout\n",
    "from mmcv.cnn.utils.weight_init import trunc_normal_\n",
    "from mmcv.runner import BaseModule, ModuleList, _load_checkpoint\n",
    "from mmcv.utils import to_2tuple\n",
    "\n",
    "from mmdet.utils import get_root_logger\n",
    "from mmdet.models.builder import BACKBONES\n",
    "\n",
    "import sys\n",
    "sys.path.append('../')\n",
    "\n",
    "# from ...utils import get_root_logger\n",
    "# from ..builder import BACKBONES\n",
    "from utils.ckpt_convert import swin_converter\n",
    "from utils.transformer import PatchEmbed, PatchMerging"
   ]
  },
  {
   "cell_type": "code",
   "execution_count": 19,
   "id": "d6b0af8c-b582-4470-a7a2-e1e1710b9b66",
   "metadata": {},
   "outputs": [
    {
     "name": "stdout",
     "output_type": "stream",
     "text": [
      "load checkpoint from http path: https://github.com/SwinTransformer/storage/releases/download/v1.0.0/swin_tiny_patch4_window7_224.pth\n"
     ]
    }
   ],
   "source": [
    "\n",
    "pretrained = 'https://github.com/SwinTransformer/storage/releases/download/v1.0.0/swin_tiny_patch4_window7_224.pth'  # noqa\n",
    "ckpt = _load_checkpoint(\n",
    "    pretrained, logger=None, map_location='cpu')"
   ]
  },
  {
   "cell_type": "code",
   "execution_count": 20,
   "id": "302db608-8dd5-47ad-9543-602279fdbf30",
   "metadata": {},
   "outputs": [
    {
     "data": {
      "text/plain": [
       "dict_keys(['model'])"
      ]
     },
     "execution_count": 20,
     "metadata": {},
     "output_type": "execute_result"
    }
   ],
   "source": [
    "ckpt.keys()"
   ]
  },
  {
   "cell_type": "code",
   "execution_count": 21,
   "id": "d0735a33-019c-4708-888d-3df0fb6f8194",
   "metadata": {},
   "outputs": [
    {
     "name": "stdout",
     "output_type": "stream",
     "text": [
      "************************ patch_embed.proj.weight\n",
      "************************ backbone.patch_embed.projection.weight\n"
     ]
    }
   ],
   "source": [
    "_state_dict = ckpt['model']\n",
    "print('************************',list(_state_dict.keys())[0])\n",
    "_state_dict = swin_converter(_state_dict)\n",
    "print('************************',list(_state_dict.keys())[0])"
   ]
  },
  {
   "cell_type": "code",
   "execution_count": 5,
   "id": "1e6a5418-22e0-48fe-a18b-758f5c2b774f",
   "metadata": {},
   "outputs": [
    {
     "data": {
      "text/plain": [
       "odict_keys(['backbone.patch_embed.projection.weight', 'backbone.patch_embed.projection.bias', 'backbone.patch_embed.norm.weight', 'backbone.patch_embed.norm.bias', 'backbone.stages.0.blocks.0.norm1.weight', 'backbone.stages.0.blocks.0.norm1.bias', 'backbone.stages.0.blocks.0.attn.w_msa.qkv.weight', 'backbone.stages.0.blocks.0.attn.w_msa.qkv.bias', 'backbone.stages.0.blocks.0.attn.w_msa.proj.weight', 'backbone.stages.0.blocks.0.attn.w_msa.proj.bias', 'backbone.stages.0.blocks.0.norm2.weight', 'backbone.stages.0.blocks.0.norm2.bias', 'backbone.stages.0.blocks.0.ffn.layers.0.0.weight', 'backbone.stages.0.blocks.0.ffn.layers.0.0.bias', 'backbone.stages.0.blocks.0.ffn.layers.1.weight', 'backbone.stages.0.blocks.0.ffn.layers.1.bias', 'backbone.stages.0.blocks.1.norm1.weight', 'backbone.stages.0.blocks.1.norm1.bias', 'backbone.stages.0.blocks.1.attn.w_msa.qkv.weight', 'backbone.stages.0.blocks.1.attn.w_msa.qkv.bias', 'backbone.stages.0.blocks.1.attn.w_msa.proj.weight', 'backbone.stages.0.blocks.1.attn.w_msa.proj.bias', 'backbone.stages.0.blocks.1.norm2.weight', 'backbone.stages.0.blocks.1.norm2.bias', 'backbone.stages.0.blocks.1.ffn.layers.0.0.weight', 'backbone.stages.0.blocks.1.ffn.layers.0.0.bias', 'backbone.stages.0.blocks.1.ffn.layers.1.weight', 'backbone.stages.0.blocks.1.ffn.layers.1.bias', 'backbone.stages.0.downsample.norm.weight', 'backbone.stages.0.downsample.norm.bias', 'backbone.stages.1.blocks.0.norm1.weight', 'backbone.stages.1.blocks.0.norm1.bias', 'backbone.stages.1.blocks.0.attn.w_msa.qkv.weight', 'backbone.stages.1.blocks.0.attn.w_msa.qkv.bias', 'backbone.stages.1.blocks.0.attn.w_msa.proj.weight', 'backbone.stages.1.blocks.0.attn.w_msa.proj.bias', 'backbone.stages.1.blocks.0.norm2.weight', 'backbone.stages.1.blocks.0.norm2.bias', 'backbone.stages.1.blocks.0.ffn.layers.0.0.weight', 'backbone.stages.1.blocks.0.ffn.layers.0.0.bias', 'backbone.stages.1.blocks.0.ffn.layers.1.weight', 'backbone.stages.1.blocks.0.ffn.layers.1.bias', 'backbone.stages.1.blocks.1.norm1.weight', 'backbone.stages.1.blocks.1.norm1.bias', 'backbone.stages.1.blocks.1.attn.w_msa.qkv.weight', 'backbone.stages.1.blocks.1.attn.w_msa.qkv.bias', 'backbone.stages.1.blocks.1.attn.w_msa.proj.weight', 'backbone.stages.1.blocks.1.attn.w_msa.proj.bias', 'backbone.stages.1.blocks.1.norm2.weight', 'backbone.stages.1.blocks.1.norm2.bias', 'backbone.stages.1.blocks.1.ffn.layers.0.0.weight', 'backbone.stages.1.blocks.1.ffn.layers.0.0.bias', 'backbone.stages.1.blocks.1.ffn.layers.1.weight', 'backbone.stages.1.blocks.1.ffn.layers.1.bias', 'backbone.stages.1.downsample.norm.weight', 'backbone.stages.1.downsample.norm.bias', 'backbone.stages.2.blocks.0.norm1.weight', 'backbone.stages.2.blocks.0.norm1.bias', 'backbone.stages.2.blocks.0.attn.w_msa.qkv.weight', 'backbone.stages.2.blocks.0.attn.w_msa.qkv.bias', 'backbone.stages.2.blocks.0.attn.w_msa.proj.weight', 'backbone.stages.2.blocks.0.attn.w_msa.proj.bias', 'backbone.stages.2.blocks.0.norm2.weight', 'backbone.stages.2.blocks.0.norm2.bias', 'backbone.stages.2.blocks.0.ffn.layers.0.0.weight', 'backbone.stages.2.blocks.0.ffn.layers.0.0.bias', 'backbone.stages.2.blocks.0.ffn.layers.1.weight', 'backbone.stages.2.blocks.0.ffn.layers.1.bias', 'backbone.stages.2.blocks.1.norm1.weight', 'backbone.stages.2.blocks.1.norm1.bias', 'backbone.stages.2.blocks.1.attn.w_msa.qkv.weight', 'backbone.stages.2.blocks.1.attn.w_msa.qkv.bias', 'backbone.stages.2.blocks.1.attn.w_msa.proj.weight', 'backbone.stages.2.blocks.1.attn.w_msa.proj.bias', 'backbone.stages.2.blocks.1.norm2.weight', 'backbone.stages.2.blocks.1.norm2.bias', 'backbone.stages.2.blocks.1.ffn.layers.0.0.weight', 'backbone.stages.2.blocks.1.ffn.layers.0.0.bias', 'backbone.stages.2.blocks.1.ffn.layers.1.weight', 'backbone.stages.2.blocks.1.ffn.layers.1.bias', 'backbone.stages.2.blocks.2.norm1.weight', 'backbone.stages.2.blocks.2.norm1.bias', 'backbone.stages.2.blocks.2.attn.w_msa.qkv.weight', 'backbone.stages.2.blocks.2.attn.w_msa.qkv.bias', 'backbone.stages.2.blocks.2.attn.w_msa.proj.weight', 'backbone.stages.2.blocks.2.attn.w_msa.proj.bias', 'backbone.stages.2.blocks.2.norm2.weight', 'backbone.stages.2.blocks.2.norm2.bias', 'backbone.stages.2.blocks.2.ffn.layers.0.0.weight', 'backbone.stages.2.blocks.2.ffn.layers.0.0.bias', 'backbone.stages.2.blocks.2.ffn.layers.1.weight', 'backbone.stages.2.blocks.2.ffn.layers.1.bias', 'backbone.stages.2.blocks.3.norm1.weight', 'backbone.stages.2.blocks.3.norm1.bias', 'backbone.stages.2.blocks.3.attn.w_msa.qkv.weight', 'backbone.stages.2.blocks.3.attn.w_msa.qkv.bias', 'backbone.stages.2.blocks.3.attn.w_msa.proj.weight', 'backbone.stages.2.blocks.3.attn.w_msa.proj.bias', 'backbone.stages.2.blocks.3.norm2.weight', 'backbone.stages.2.blocks.3.norm2.bias', 'backbone.stages.2.blocks.3.ffn.layers.0.0.weight', 'backbone.stages.2.blocks.3.ffn.layers.0.0.bias', 'backbone.stages.2.blocks.3.ffn.layers.1.weight', 'backbone.stages.2.blocks.3.ffn.layers.1.bias', 'backbone.stages.2.blocks.4.norm1.weight', 'backbone.stages.2.blocks.4.norm1.bias', 'backbone.stages.2.blocks.4.attn.w_msa.qkv.weight', 'backbone.stages.2.blocks.4.attn.w_msa.qkv.bias', 'backbone.stages.2.blocks.4.attn.w_msa.proj.weight', 'backbone.stages.2.blocks.4.attn.w_msa.proj.bias', 'backbone.stages.2.blocks.4.norm2.weight', 'backbone.stages.2.blocks.4.norm2.bias', 'backbone.stages.2.blocks.4.ffn.layers.0.0.weight', 'backbone.stages.2.blocks.4.ffn.layers.0.0.bias', 'backbone.stages.2.blocks.4.ffn.layers.1.weight', 'backbone.stages.2.blocks.4.ffn.layers.1.bias', 'backbone.stages.2.blocks.5.norm1.weight', 'backbone.stages.2.blocks.5.norm1.bias', 'backbone.stages.2.blocks.5.attn.w_msa.qkv.weight', 'backbone.stages.2.blocks.5.attn.w_msa.qkv.bias', 'backbone.stages.2.blocks.5.attn.w_msa.proj.weight', 'backbone.stages.2.blocks.5.attn.w_msa.proj.bias', 'backbone.stages.2.blocks.5.norm2.weight', 'backbone.stages.2.blocks.5.norm2.bias', 'backbone.stages.2.blocks.5.ffn.layers.0.0.weight', 'backbone.stages.2.blocks.5.ffn.layers.0.0.bias', 'backbone.stages.2.blocks.5.ffn.layers.1.weight', 'backbone.stages.2.blocks.5.ffn.layers.1.bias', 'backbone.stages.2.downsample.norm.weight', 'backbone.stages.2.downsample.norm.bias', 'backbone.stages.3.blocks.0.norm1.weight', 'backbone.stages.3.blocks.0.norm1.bias', 'backbone.stages.3.blocks.0.attn.w_msa.qkv.weight', 'backbone.stages.3.blocks.0.attn.w_msa.qkv.bias', 'backbone.stages.3.blocks.0.attn.w_msa.proj.weight', 'backbone.stages.3.blocks.0.attn.w_msa.proj.bias', 'backbone.stages.3.blocks.0.norm2.weight', 'backbone.stages.3.blocks.0.norm2.bias', 'backbone.stages.3.blocks.0.ffn.layers.0.0.weight', 'backbone.stages.3.blocks.0.ffn.layers.0.0.bias', 'backbone.stages.3.blocks.0.ffn.layers.1.weight', 'backbone.stages.3.blocks.0.ffn.layers.1.bias', 'backbone.stages.3.blocks.1.norm1.weight', 'backbone.stages.3.blocks.1.norm1.bias', 'backbone.stages.3.blocks.1.attn.w_msa.qkv.weight', 'backbone.stages.3.blocks.1.attn.w_msa.qkv.bias', 'backbone.stages.3.blocks.1.attn.w_msa.proj.weight', 'backbone.stages.3.blocks.1.attn.w_msa.proj.bias', 'backbone.stages.3.blocks.1.norm2.weight', 'backbone.stages.3.blocks.1.norm2.bias', 'backbone.stages.3.blocks.1.ffn.layers.0.0.weight', 'backbone.stages.3.blocks.1.ffn.layers.0.0.bias', 'backbone.stages.3.blocks.1.ffn.layers.1.weight', 'backbone.stages.3.blocks.1.ffn.layers.1.bias', 'backbone.norm.weight', 'backbone.norm.bias', 'backbone.stages.0.blocks.0.attn.w_msa.relative_position_index', 'backbone.stages.0.blocks.1.attn.w_msa.relative_position_index', 'backbone.stages.1.blocks.0.attn.w_msa.relative_position_index', 'backbone.stages.1.blocks.1.attn.w_msa.relative_position_index', 'backbone.stages.2.blocks.0.attn.w_msa.relative_position_index', 'backbone.stages.2.blocks.1.attn.w_msa.relative_position_index', 'backbone.stages.2.blocks.2.attn.w_msa.relative_position_index', 'backbone.stages.2.blocks.3.attn.w_msa.relative_position_index', 'backbone.stages.2.blocks.4.attn.w_msa.relative_position_index', 'backbone.stages.2.blocks.5.attn.w_msa.relative_position_index', 'backbone.stages.3.blocks.0.attn.w_msa.relative_position_index', 'backbone.stages.3.blocks.1.attn.w_msa.relative_position_index', 'backbone.stages.0.blocks.1.attn_mask', 'backbone.stages.1.blocks.1.attn_mask', 'backbone.stages.2.blocks.1.attn_mask', 'backbone.stages.2.blocks.3.attn_mask', 'backbone.stages.2.blocks.5.attn_mask', 'backbone.stages.0.blocks.0.attn.w_msa.relative_position_bias_table', 'backbone.stages.0.blocks.1.attn.w_msa.relative_position_bias_table', 'backbone.stages.1.blocks.0.attn.w_msa.relative_position_bias_table', 'backbone.stages.1.blocks.1.attn.w_msa.relative_position_bias_table', 'backbone.stages.2.blocks.0.attn.w_msa.relative_position_bias_table', 'backbone.stages.2.blocks.1.attn.w_msa.relative_position_bias_table', 'backbone.stages.2.blocks.2.attn.w_msa.relative_position_bias_table', 'backbone.stages.2.blocks.3.attn.w_msa.relative_position_bias_table', 'backbone.stages.2.blocks.4.attn.w_msa.relative_position_bias_table', 'backbone.stages.2.blocks.5.attn.w_msa.relative_position_bias_table', 'backbone.stages.3.blocks.0.attn.w_msa.relative_position_bias_table', 'backbone.stages.3.blocks.1.attn.w_msa.relative_position_bias_table', 'backbone.stages.0.downsample.reduction.weight', 'backbone.stages.1.downsample.reduction.weight', 'backbone.stages.2.downsample.reduction.weight'])"
      ]
     },
     "execution_count": 5,
     "metadata": {},
     "output_type": "execute_result"
    }
   ],
   "source": [
    "_state_dict.keys()"
   ]
  },
  {
   "cell_type": "code",
   "execution_count": 6,
   "id": "3c231db3-174c-421b-bb09-3903fa876905",
   "metadata": {},
   "outputs": [],
   "source": [
    "state_dict = OrderedDict()\n",
    "for k, v in _state_dict.items():\n",
    "    if k.startswith('backbone.'):\n",
    "        state_dict[k[9:]] = v"
   ]
  },
  {
   "cell_type": "code",
   "execution_count": 7,
   "id": "c58073bc-f929-4414-b392-76b8866e7b9b",
   "metadata": {},
   "outputs": [
    {
     "data": {
      "text/plain": [
       "odict_keys(['patch_embed.projection.weight', 'patch_embed.projection.bias', 'patch_embed.norm.weight', 'patch_embed.norm.bias', 'stages.0.blocks.0.norm1.weight', 'stages.0.blocks.0.norm1.bias', 'stages.0.blocks.0.attn.w_msa.qkv.weight', 'stages.0.blocks.0.attn.w_msa.qkv.bias', 'stages.0.blocks.0.attn.w_msa.proj.weight', 'stages.0.blocks.0.attn.w_msa.proj.bias', 'stages.0.blocks.0.norm2.weight', 'stages.0.blocks.0.norm2.bias', 'stages.0.blocks.0.ffn.layers.0.0.weight', 'stages.0.blocks.0.ffn.layers.0.0.bias', 'stages.0.blocks.0.ffn.layers.1.weight', 'stages.0.blocks.0.ffn.layers.1.bias', 'stages.0.blocks.1.norm1.weight', 'stages.0.blocks.1.norm1.bias', 'stages.0.blocks.1.attn.w_msa.qkv.weight', 'stages.0.blocks.1.attn.w_msa.qkv.bias', 'stages.0.blocks.1.attn.w_msa.proj.weight', 'stages.0.blocks.1.attn.w_msa.proj.bias', 'stages.0.blocks.1.norm2.weight', 'stages.0.blocks.1.norm2.bias', 'stages.0.blocks.1.ffn.layers.0.0.weight', 'stages.0.blocks.1.ffn.layers.0.0.bias', 'stages.0.blocks.1.ffn.layers.1.weight', 'stages.0.blocks.1.ffn.layers.1.bias', 'stages.0.downsample.norm.weight', 'stages.0.downsample.norm.bias', 'stages.1.blocks.0.norm1.weight', 'stages.1.blocks.0.norm1.bias', 'stages.1.blocks.0.attn.w_msa.qkv.weight', 'stages.1.blocks.0.attn.w_msa.qkv.bias', 'stages.1.blocks.0.attn.w_msa.proj.weight', 'stages.1.blocks.0.attn.w_msa.proj.bias', 'stages.1.blocks.0.norm2.weight', 'stages.1.blocks.0.norm2.bias', 'stages.1.blocks.0.ffn.layers.0.0.weight', 'stages.1.blocks.0.ffn.layers.0.0.bias', 'stages.1.blocks.0.ffn.layers.1.weight', 'stages.1.blocks.0.ffn.layers.1.bias', 'stages.1.blocks.1.norm1.weight', 'stages.1.blocks.1.norm1.bias', 'stages.1.blocks.1.attn.w_msa.qkv.weight', 'stages.1.blocks.1.attn.w_msa.qkv.bias', 'stages.1.blocks.1.attn.w_msa.proj.weight', 'stages.1.blocks.1.attn.w_msa.proj.bias', 'stages.1.blocks.1.norm2.weight', 'stages.1.blocks.1.norm2.bias', 'stages.1.blocks.1.ffn.layers.0.0.weight', 'stages.1.blocks.1.ffn.layers.0.0.bias', 'stages.1.blocks.1.ffn.layers.1.weight', 'stages.1.blocks.1.ffn.layers.1.bias', 'stages.1.downsample.norm.weight', 'stages.1.downsample.norm.bias', 'stages.2.blocks.0.norm1.weight', 'stages.2.blocks.0.norm1.bias', 'stages.2.blocks.0.attn.w_msa.qkv.weight', 'stages.2.blocks.0.attn.w_msa.qkv.bias', 'stages.2.blocks.0.attn.w_msa.proj.weight', 'stages.2.blocks.0.attn.w_msa.proj.bias', 'stages.2.blocks.0.norm2.weight', 'stages.2.blocks.0.norm2.bias', 'stages.2.blocks.0.ffn.layers.0.0.weight', 'stages.2.blocks.0.ffn.layers.0.0.bias', 'stages.2.blocks.0.ffn.layers.1.weight', 'stages.2.blocks.0.ffn.layers.1.bias', 'stages.2.blocks.1.norm1.weight', 'stages.2.blocks.1.norm1.bias', 'stages.2.blocks.1.attn.w_msa.qkv.weight', 'stages.2.blocks.1.attn.w_msa.qkv.bias', 'stages.2.blocks.1.attn.w_msa.proj.weight', 'stages.2.blocks.1.attn.w_msa.proj.bias', 'stages.2.blocks.1.norm2.weight', 'stages.2.blocks.1.norm2.bias', 'stages.2.blocks.1.ffn.layers.0.0.weight', 'stages.2.blocks.1.ffn.layers.0.0.bias', 'stages.2.blocks.1.ffn.layers.1.weight', 'stages.2.blocks.1.ffn.layers.1.bias', 'stages.2.blocks.2.norm1.weight', 'stages.2.blocks.2.norm1.bias', 'stages.2.blocks.2.attn.w_msa.qkv.weight', 'stages.2.blocks.2.attn.w_msa.qkv.bias', 'stages.2.blocks.2.attn.w_msa.proj.weight', 'stages.2.blocks.2.attn.w_msa.proj.bias', 'stages.2.blocks.2.norm2.weight', 'stages.2.blocks.2.norm2.bias', 'stages.2.blocks.2.ffn.layers.0.0.weight', 'stages.2.blocks.2.ffn.layers.0.0.bias', 'stages.2.blocks.2.ffn.layers.1.weight', 'stages.2.blocks.2.ffn.layers.1.bias', 'stages.2.blocks.3.norm1.weight', 'stages.2.blocks.3.norm1.bias', 'stages.2.blocks.3.attn.w_msa.qkv.weight', 'stages.2.blocks.3.attn.w_msa.qkv.bias', 'stages.2.blocks.3.attn.w_msa.proj.weight', 'stages.2.blocks.3.attn.w_msa.proj.bias', 'stages.2.blocks.3.norm2.weight', 'stages.2.blocks.3.norm2.bias', 'stages.2.blocks.3.ffn.layers.0.0.weight', 'stages.2.blocks.3.ffn.layers.0.0.bias', 'stages.2.blocks.3.ffn.layers.1.weight', 'stages.2.blocks.3.ffn.layers.1.bias', 'stages.2.blocks.4.norm1.weight', 'stages.2.blocks.4.norm1.bias', 'stages.2.blocks.4.attn.w_msa.qkv.weight', 'stages.2.blocks.4.attn.w_msa.qkv.bias', 'stages.2.blocks.4.attn.w_msa.proj.weight', 'stages.2.blocks.4.attn.w_msa.proj.bias', 'stages.2.blocks.4.norm2.weight', 'stages.2.blocks.4.norm2.bias', 'stages.2.blocks.4.ffn.layers.0.0.weight', 'stages.2.blocks.4.ffn.layers.0.0.bias', 'stages.2.blocks.4.ffn.layers.1.weight', 'stages.2.blocks.4.ffn.layers.1.bias', 'stages.2.blocks.5.norm1.weight', 'stages.2.blocks.5.norm1.bias', 'stages.2.blocks.5.attn.w_msa.qkv.weight', 'stages.2.blocks.5.attn.w_msa.qkv.bias', 'stages.2.blocks.5.attn.w_msa.proj.weight', 'stages.2.blocks.5.attn.w_msa.proj.bias', 'stages.2.blocks.5.norm2.weight', 'stages.2.blocks.5.norm2.bias', 'stages.2.blocks.5.ffn.layers.0.0.weight', 'stages.2.blocks.5.ffn.layers.0.0.bias', 'stages.2.blocks.5.ffn.layers.1.weight', 'stages.2.blocks.5.ffn.layers.1.bias', 'stages.2.downsample.norm.weight', 'stages.2.downsample.norm.bias', 'stages.3.blocks.0.norm1.weight', 'stages.3.blocks.0.norm1.bias', 'stages.3.blocks.0.attn.w_msa.qkv.weight', 'stages.3.blocks.0.attn.w_msa.qkv.bias', 'stages.3.blocks.0.attn.w_msa.proj.weight', 'stages.3.blocks.0.attn.w_msa.proj.bias', 'stages.3.blocks.0.norm2.weight', 'stages.3.blocks.0.norm2.bias', 'stages.3.blocks.0.ffn.layers.0.0.weight', 'stages.3.blocks.0.ffn.layers.0.0.bias', 'stages.3.blocks.0.ffn.layers.1.weight', 'stages.3.blocks.0.ffn.layers.1.bias', 'stages.3.blocks.1.norm1.weight', 'stages.3.blocks.1.norm1.bias', 'stages.3.blocks.1.attn.w_msa.qkv.weight', 'stages.3.blocks.1.attn.w_msa.qkv.bias', 'stages.3.blocks.1.attn.w_msa.proj.weight', 'stages.3.blocks.1.attn.w_msa.proj.bias', 'stages.3.blocks.1.norm2.weight', 'stages.3.blocks.1.norm2.bias', 'stages.3.blocks.1.ffn.layers.0.0.weight', 'stages.3.blocks.1.ffn.layers.0.0.bias', 'stages.3.blocks.1.ffn.layers.1.weight', 'stages.3.blocks.1.ffn.layers.1.bias', 'norm.weight', 'norm.bias', 'stages.0.blocks.0.attn.w_msa.relative_position_index', 'stages.0.blocks.1.attn.w_msa.relative_position_index', 'stages.1.blocks.0.attn.w_msa.relative_position_index', 'stages.1.blocks.1.attn.w_msa.relative_position_index', 'stages.2.blocks.0.attn.w_msa.relative_position_index', 'stages.2.blocks.1.attn.w_msa.relative_position_index', 'stages.2.blocks.2.attn.w_msa.relative_position_index', 'stages.2.blocks.3.attn.w_msa.relative_position_index', 'stages.2.blocks.4.attn.w_msa.relative_position_index', 'stages.2.blocks.5.attn.w_msa.relative_position_index', 'stages.3.blocks.0.attn.w_msa.relative_position_index', 'stages.3.blocks.1.attn.w_msa.relative_position_index', 'stages.0.blocks.1.attn_mask', 'stages.1.blocks.1.attn_mask', 'stages.2.blocks.1.attn_mask', 'stages.2.blocks.3.attn_mask', 'stages.2.blocks.5.attn_mask', 'stages.0.blocks.0.attn.w_msa.relative_position_bias_table', 'stages.0.blocks.1.attn.w_msa.relative_position_bias_table', 'stages.1.blocks.0.attn.w_msa.relative_position_bias_table', 'stages.1.blocks.1.attn.w_msa.relative_position_bias_table', 'stages.2.blocks.0.attn.w_msa.relative_position_bias_table', 'stages.2.blocks.1.attn.w_msa.relative_position_bias_table', 'stages.2.blocks.2.attn.w_msa.relative_position_bias_table', 'stages.2.blocks.3.attn.w_msa.relative_position_bias_table', 'stages.2.blocks.4.attn.w_msa.relative_position_bias_table', 'stages.2.blocks.5.attn.w_msa.relative_position_bias_table', 'stages.3.blocks.0.attn.w_msa.relative_position_bias_table', 'stages.3.blocks.1.attn.w_msa.relative_position_bias_table', 'stages.0.downsample.reduction.weight', 'stages.1.downsample.reduction.weight', 'stages.2.downsample.reduction.weight'])"
      ]
     },
     "execution_count": 7,
     "metadata": {},
     "output_type": "execute_result"
    }
   ],
   "source": [
    "state_dict.keys()"
   ]
  },
  {
   "cell_type": "code",
   "execution_count": 8,
   "id": "6a827832-f8bc-4e04-b2ca-c56e3a2987b6",
   "metadata": {},
   "outputs": [],
   "source": [
    "# strip prefix of state_dict\n",
    "if list(state_dict.keys())[0].startswith('module.'):\n",
    "    print('NOP')\n",
    "    state_dict = {k[7:]: v for k, v in state_dict.items()}"
   ]
  },
  {
   "cell_type": "code",
   "execution_count": 9,
   "id": "f3c3860a-83aa-462e-805c-d9ae0c807719",
   "metadata": {},
   "outputs": [],
   "source": [
    "# reshape absolute position embedding\n",
    "if state_dict.get('absolute_pos_embed') is not None:\n",
    "    print('NOP')\n",
    "    absolute_pos_embed = state_dict['absolute_pos_embed']\n",
    "    N1, L, C1 = absolute_pos_embed.size()\n",
    "    N2, C2, H, W = self.absolute_pos_embed.size()\n",
    "    if N1 != N2 or C1 != C2 or L != H * W:\n",
    "        logger.warning('Error in loading absolute_pos_embed, pass')\n",
    "    else:\n",
    "        state_dict['absolute_pos_embed'] = absolute_pos_embed.view(\n",
    "            N2, H, W, C2).permute(0, 3, 1, 2).contiguous()"
   ]
  },
  {
   "cell_type": "code",
   "execution_count": 10,
   "id": "0fc14dfb-cdcb-404b-9d7a-0eaffa75bfab",
   "metadata": {},
   "outputs": [],
   "source": [
    "# interpolate position bias table if needed\n",
    "relative_position_bias_table_keys = [\n",
    "    k for k in state_dict.keys()\n",
    "    if 'relative_position_bias_table' in k\n",
    "]"
   ]
  },
  {
   "cell_type": "code",
   "execution_count": 13,
   "id": "6647f634-2c53-4ea4-9214-3a3389b29310",
   "metadata": {},
   "outputs": [
    {
     "data": {
      "text/plain": [
       "['stages.0.blocks.0.attn.w_msa.relative_position_bias_table',\n",
       " 'stages.0.blocks.1.attn.w_msa.relative_position_bias_table',\n",
       " 'stages.1.blocks.0.attn.w_msa.relative_position_bias_table',\n",
       " 'stages.1.blocks.1.attn.w_msa.relative_position_bias_table',\n",
       " 'stages.2.blocks.0.attn.w_msa.relative_position_bias_table',\n",
       " 'stages.2.blocks.1.attn.w_msa.relative_position_bias_table',\n",
       " 'stages.2.blocks.2.attn.w_msa.relative_position_bias_table',\n",
       " 'stages.2.blocks.3.attn.w_msa.relative_position_bias_table',\n",
       " 'stages.2.blocks.4.attn.w_msa.relative_position_bias_table',\n",
       " 'stages.2.blocks.5.attn.w_msa.relative_position_bias_table',\n",
       " 'stages.3.blocks.0.attn.w_msa.relative_position_bias_table',\n",
       " 'stages.3.blocks.1.attn.w_msa.relative_position_bias_table']"
      ]
     },
     "execution_count": 13,
     "metadata": {},
     "output_type": "execute_result"
    }
   ],
   "source": [
    "relative_position_bias_table_keys"
   ]
  },
  {
   "cell_type": "code",
   "execution_count": null,
   "id": "37c589d0-90cf-4812-8cb6-8aa75d9a4502",
   "metadata": {},
   "outputs": [
    {
     "data": {
      "text/plain": [
       "odict_keys(['patch_embed.projection.weight', 'patch_embed.projection.bias', 'patch_embed.norm.weight', 'patch_embed.norm.bias', 'stages.0.blocks.0.norm1.weight', 'stages.0.blocks.0.norm1.bias', 'stages.0.blocks.0.attn.w_msa.qkv.weight', 'stages.0.blocks.0.attn.w_msa.qkv.bias', 'stages.0.blocks.0.attn.w_msa.proj.weight', 'stages.0.blocks.0.attn.w_msa.proj.bias', 'stages.0.blocks.0.norm2.weight', 'stages.0.blocks.0.norm2.bias', 'stages.0.blocks.0.ffn.layers.0.0.weight', 'stages.0.blocks.0.ffn.layers.0.0.bias', 'stages.0.blocks.0.ffn.layers.1.weight', 'stages.0.blocks.0.ffn.layers.1.bias', 'stages.0.blocks.1.norm1.weight', 'stages.0.blocks.1.norm1.bias', 'stages.0.blocks.1.attn.w_msa.qkv.weight', 'stages.0.blocks.1.attn.w_msa.qkv.bias', 'stages.0.blocks.1.attn.w_msa.proj.weight', 'stages.0.blocks.1.attn.w_msa.proj.bias', 'stages.0.blocks.1.norm2.weight', 'stages.0.blocks.1.norm2.bias', 'stages.0.blocks.1.ffn.layers.0.0.weight', 'stages.0.blocks.1.ffn.layers.0.0.bias', 'stages.0.blocks.1.ffn.layers.1.weight', 'stages.0.blocks.1.ffn.layers.1.bias', 'stages.0.downsample.norm.weight', 'stages.0.downsample.norm.bias', 'stages.1.blocks.0.norm1.weight', 'stages.1.blocks.0.norm1.bias', 'stages.1.blocks.0.attn.w_msa.qkv.weight', 'stages.1.blocks.0.attn.w_msa.qkv.bias', 'stages.1.blocks.0.attn.w_msa.proj.weight', 'stages.1.blocks.0.attn.w_msa.proj.bias', 'stages.1.blocks.0.norm2.weight', 'stages.1.blocks.0.norm2.bias', 'stages.1.blocks.0.ffn.layers.0.0.weight', 'stages.1.blocks.0.ffn.layers.0.0.bias', 'stages.1.blocks.0.ffn.layers.1.weight', 'stages.1.blocks.0.ffn.layers.1.bias', 'stages.1.blocks.1.norm1.weight', 'stages.1.blocks.1.norm1.bias', 'stages.1.blocks.1.attn.w_msa.qkv.weight', 'stages.1.blocks.1.attn.w_msa.qkv.bias', 'stages.1.blocks.1.attn.w_msa.proj.weight', 'stages.1.blocks.1.attn.w_msa.proj.bias', 'stages.1.blocks.1.norm2.weight', 'stages.1.blocks.1.norm2.bias', 'stages.1.blocks.1.ffn.layers.0.0.weight', 'stages.1.blocks.1.ffn.layers.0.0.bias', 'stages.1.blocks.1.ffn.layers.1.weight', 'stages.1.blocks.1.ffn.layers.1.bias', 'stages.1.downsample.norm.weight', 'stages.1.downsample.norm.bias', 'stages.2.blocks.0.norm1.weight', 'stages.2.blocks.0.norm1.bias', 'stages.2.blocks.0.attn.w_msa.qkv.weight', 'stages.2.blocks.0.attn.w_msa.qkv.bias', 'stages.2.blocks.0.attn.w_msa.proj.weight', 'stages.2.blocks.0.attn.w_msa.proj.bias', 'stages.2.blocks.0.norm2.weight', 'stages.2.blocks.0.norm2.bias', 'stages.2.blocks.0.ffn.layers.0.0.weight', 'stages.2.blocks.0.ffn.layers.0.0.bias', 'stages.2.blocks.0.ffn.layers.1.weight', 'stages.2.blocks.0.ffn.layers.1.bias', 'stages.2.blocks.1.norm1.weight', 'stages.2.blocks.1.norm1.bias', 'stages.2.blocks.1.attn.w_msa.qkv.weight', 'stages.2.blocks.1.attn.w_msa.qkv.bias', 'stages.2.blocks.1.attn.w_msa.proj.weight', 'stages.2.blocks.1.attn.w_msa.proj.bias', 'stages.2.blocks.1.norm2.weight', 'stages.2.blocks.1.norm2.bias', 'stages.2.blocks.1.ffn.layers.0.0.weight', 'stages.2.blocks.1.ffn.layers.0.0.bias', 'stages.2.blocks.1.ffn.layers.1.weight', 'stages.2.blocks.1.ffn.layers.1.bias', 'stages.2.blocks.2.norm1.weight', 'stages.2.blocks.2.norm1.bias', 'stages.2.blocks.2.attn.w_msa.qkv.weight', 'stages.2.blocks.2.attn.w_msa.qkv.bias', 'stages.2.blocks.2.attn.w_msa.proj.weight', 'stages.2.blocks.2.attn.w_msa.proj.bias', 'stages.2.blocks.2.norm2.weight', 'stages.2.blocks.2.norm2.bias', 'stages.2.blocks.2.ffn.layers.0.0.weight', 'stages.2.blocks.2.ffn.layers.0.0.bias', 'stages.2.blocks.2.ffn.layers.1.weight', 'stages.2.blocks.2.ffn.layers.1.bias', 'stages.2.blocks.3.norm1.weight', 'stages.2.blocks.3.norm1.bias', 'stages.2.blocks.3.attn.w_msa.qkv.weight', 'stages.2.blocks.3.attn.w_msa.qkv.bias', 'stages.2.blocks.3.attn.w_msa.proj.weight', 'stages.2.blocks.3.attn.w_msa.proj.bias', 'stages.2.blocks.3.norm2.weight', 'stages.2.blocks.3.norm2.bias', 'stages.2.blocks.3.ffn.layers.0.0.weight', 'stages.2.blocks.3.ffn.layers.0.0.bias', 'stages.2.blocks.3.ffn.layers.1.weight', 'stages.2.blocks.3.ffn.layers.1.bias', 'stages.2.blocks.4.norm1.weight', 'stages.2.blocks.4.norm1.bias', 'stages.2.blocks.4.attn.w_msa.qkv.weight', 'stages.2.blocks.4.attn.w_msa.qkv.bias', 'stages.2.blocks.4.attn.w_msa.proj.weight', 'stages.2.blocks.4.attn.w_msa.proj.bias', 'stages.2.blocks.4.norm2.weight', 'stages.2.blocks.4.norm2.bias', 'stages.2.blocks.4.ffn.layers.0.0.weight', 'stages.2.blocks.4.ffn.layers.0.0.bias', 'stages.2.blocks.4.ffn.layers.1.weight', 'stages.2.blocks.4.ffn.layers.1.bias', 'stages.2.blocks.5.norm1.weight', 'stages.2.blocks.5.norm1.bias', 'stages.2.blocks.5.attn.w_msa.qkv.weight', 'stages.2.blocks.5.attn.w_msa.qkv.bias', 'stages.2.blocks.5.attn.w_msa.proj.weight', 'stages.2.blocks.5.attn.w_msa.proj.bias', 'stages.2.blocks.5.norm2.weight', 'stages.2.blocks.5.norm2.bias', 'stages.2.blocks.5.ffn.layers.0.0.weight', 'stages.2.blocks.5.ffn.layers.0.0.bias', 'stages.2.blocks.5.ffn.layers.1.weight', 'stages.2.blocks.5.ffn.layers.1.bias', 'stages.2.downsample.norm.weight', 'stages.2.downsample.norm.bias', 'stages.3.blocks.0.norm1.weight', 'stages.3.blocks.0.norm1.bias', 'stages.3.blocks.0.attn.w_msa.qkv.weight', 'stages.3.blocks.0.attn.w_msa.qkv.bias', 'stages.3.blocks.0.attn.w_msa.proj.weight', 'stages.3.blocks.0.attn.w_msa.proj.bias', 'stages.3.blocks.0.norm2.weight', 'stages.3.blocks.0.norm2.bias', 'stages.3.blocks.0.ffn.layers.0.0.weight', 'stages.3.blocks.0.ffn.layers.0.0.bias', 'stages.3.blocks.0.ffn.layers.1.weight', 'stages.3.blocks.0.ffn.layers.1.bias', 'stages.3.blocks.1.norm1.weight', 'stages.3.blocks.1.norm1.bias', 'stages.3.blocks.1.attn.w_msa.qkv.weight', 'stages.3.blocks.1.attn.w_msa.qkv.bias', 'stages.3.blocks.1.attn.w_msa.proj.weight', 'stages.3.blocks.1.attn.w_msa.proj.bias', 'stages.3.blocks.1.norm2.weight', 'stages.3.blocks.1.norm2.bias', 'stages.3.blocks.1.ffn.layers.0.0.weight', 'stages.3.blocks.1.ffn.layers.0.0.bias', 'stages.3.blocks.1.ffn.layers.1.weight', 'stages.3.blocks.1.ffn.layers.1.bias', 'norm.weight', 'norm.bias', 'stages.0.blocks.0.attn.w_msa.relative_position_index', 'stages.0.blocks.1.attn.w_msa.relative_position_index', 'stages.1.blocks.0.attn.w_msa.relative_position_index', 'stages.1.blocks.1.attn.w_msa.relative_position_index', 'stages.2.blocks.0.attn.w_msa.relative_position_index', 'stages.2.blocks.1.attn.w_msa.relative_position_index', 'stages.2.blocks.2.attn.w_msa.relative_position_index', 'stages.2.blocks.3.attn.w_msa.relative_position_index', 'stages.2.blocks.4.attn.w_msa.relative_position_index', 'stages.2.blocks.5.attn.w_msa.relative_position_index', 'stages.3.blocks.0.attn.w_msa.relative_position_index', 'stages.3.blocks.1.attn.w_msa.relative_position_index', 'stages.0.blocks.1.attn_mask', 'stages.1.blocks.1.attn_mask', 'stages.2.blocks.1.attn_mask', 'stages.2.blocks.3.attn_mask', 'stages.2.blocks.5.attn_mask', 'stages.0.blocks.0.attn.w_msa.relative_position_bias_table', 'stages.0.blocks.1.attn.w_msa.relative_position_bias_table', 'stages.1.blocks.0.attn.w_msa.relative_position_bias_table', 'stages.1.blocks.1.attn.w_msa.relative_position_bias_table', 'stages.2.blocks.0.attn.w_msa.relative_position_bias_table', 'stages.2.blocks.1.attn.w_msa.relative_position_bias_table', 'stages.2.blocks.2.attn.w_msa.relative_position_bias_table', 'stages.2.blocks.3.attn.w_msa.relative_position_bias_table', 'stages.2.blocks.4.attn.w_msa.relative_position_bias_table', 'stages.2.blocks.5.attn.w_msa.relative_position_bias_table', 'stages.3.blocks.0.attn.w_msa.relative_position_bias_table', 'stages.3.blocks.1.attn.w_msa.relative_position_bias_table', 'stages.0.downsample.reduction.weight', 'stages.1.downsample.reduction.weight', 'stages.2.downsample.reduction.weight'])"
      ]
     },
     "execution_count": 14,
     "metadata": {},
     "output_type": "execute_result"
    }
   ],
   "source": [
    "state_dict.keys"
   ]
  },
  {
   "cell_type": "code",
   "execution_count": 18,
   "id": "6ed71236-a437-4530-ab87-c992e08f5c7c",
   "metadata": {},
   "outputs": [
    {
     "name": "stdout",
     "output_type": "stream",
     "text": [
      "stages.0.blocks.0.attn.w_msa.relative_position_bias_table\n",
      "torch.Size([169, 3])\n"
     ]
    },
    {
     "ename": "TypeError",
     "evalue": "'collections.OrderedDict' object is not callable",
     "output_type": "error",
     "traceback": [
      "\u001b[0;31m---------------------------------------------------------------------------\u001b[0m",
      "\u001b[0;31mTypeError\u001b[0m                                 Traceback (most recent call last)",
      "Input \u001b[0;32mIn [18]\u001b[0m, in \u001b[0;36m<module>\u001b[0;34m\u001b[0m\n\u001b[1;32m      3\u001b[0m table_pretrained \u001b[38;5;241m=\u001b[39m state_dict[table_key]\n\u001b[1;32m      4\u001b[0m \u001b[38;5;28mprint\u001b[39m(table_pretrained\u001b[38;5;241m.\u001b[39mshape)\n\u001b[0;32m----> 5\u001b[0m table_current \u001b[38;5;241m=\u001b[39m \u001b[43mstate_dict\u001b[49m\u001b[43m(\u001b[49m\u001b[43m)\u001b[49m[table_key]\n\u001b[1;32m      6\u001b[0m L1, nH1 \u001b[38;5;241m=\u001b[39m table_pretrained\u001b[38;5;241m.\u001b[39msize()\n\u001b[1;32m      7\u001b[0m L2, nH2 \u001b[38;5;241m=\u001b[39m table_current\u001b[38;5;241m.\u001b[39msize()\n",
      "\u001b[0;31mTypeError\u001b[0m: 'collections.OrderedDict' object is not callable"
     ]
    }
   ],
   "source": [
    "for table_key in relative_position_bias_table_keys:\n",
    "    print(table_key)\n",
    "    table_pretrained = state_dict[table_key]\n",
    "    print(table_pretrained.shape)\n",
    "    table_current = state_dict()[table_key]\n",
    "    L1, nH1 = table_pretrained.size()\n",
    "    L2, nH2 = table_current.size()\n",
    "    if nH1 != nH2:\n",
    "        logger.warning(f'Error in loading {table_key}, pass')\n",
    "    elif L1 != L2:\n",
    "        S1 = int(L1**0.5)\n",
    "        S2 = int(L2**0.5)\n",
    "        table_pretrained_resized = F.interpolate(\n",
    "            table_pretrained.permute(1, 0).reshape(1, nH1, S1, S1),\n",
    "            size=(S2, S2),\n",
    "            mode='bicubic')\n",
    "        state_dict[table_key] = table_pretrained_resized.view(\n",
    "            nH2, L2).permute(1, 0).contiguous()"
   ]
  },
  {
   "cell_type": "code",
   "execution_count": null,
   "id": "4abb2cf5-8243-4f30-acb4-3dcdd0296f77",
   "metadata": {},
   "outputs": [],
   "source": [
    "model = swin_tiny1(type='swin_tiny1',\n",
    "        style='pytorch',\n",
    "        out_indices=(1, 2, 3),\n",
    "        init_cfg=dict(type='Pretrained', checkpoint=pretrained))\n",
    "load_state_dict(state_dict, False)"
   ]
  },
  {
   "cell_type": "code",
   "execution_count": 16,
   "id": "5b9ce6ad-ae00-43cb-9a59-a5472314ea2c",
   "metadata": {},
   "outputs": [
    {
     "data": {
      "text/plain": [
       "odict_keys(['patch_embed.projection.weight', 'patch_embed.projection.bias', 'patch_embed.norm.weight', 'patch_embed.norm.bias', 'stages.0.blocks.0.norm1.weight', 'stages.0.blocks.0.norm1.bias', 'stages.0.blocks.0.attn.w_msa.qkv.weight', 'stages.0.blocks.0.attn.w_msa.qkv.bias', 'stages.0.blocks.0.attn.w_msa.proj.weight', 'stages.0.blocks.0.attn.w_msa.proj.bias', 'stages.0.blocks.0.norm2.weight', 'stages.0.blocks.0.norm2.bias', 'stages.0.blocks.0.ffn.layers.0.0.weight', 'stages.0.blocks.0.ffn.layers.0.0.bias', 'stages.0.blocks.0.ffn.layers.1.weight', 'stages.0.blocks.0.ffn.layers.1.bias', 'stages.0.blocks.1.norm1.weight', 'stages.0.blocks.1.norm1.bias', 'stages.0.blocks.1.attn.w_msa.qkv.weight', 'stages.0.blocks.1.attn.w_msa.qkv.bias', 'stages.0.blocks.1.attn.w_msa.proj.weight', 'stages.0.blocks.1.attn.w_msa.proj.bias', 'stages.0.blocks.1.norm2.weight', 'stages.0.blocks.1.norm2.bias', 'stages.0.blocks.1.ffn.layers.0.0.weight', 'stages.0.blocks.1.ffn.layers.0.0.bias', 'stages.0.blocks.1.ffn.layers.1.weight', 'stages.0.blocks.1.ffn.layers.1.bias', 'stages.0.downsample.norm.weight', 'stages.0.downsample.norm.bias', 'stages.1.blocks.0.norm1.weight', 'stages.1.blocks.0.norm1.bias', 'stages.1.blocks.0.attn.w_msa.qkv.weight', 'stages.1.blocks.0.attn.w_msa.qkv.bias', 'stages.1.blocks.0.attn.w_msa.proj.weight', 'stages.1.blocks.0.attn.w_msa.proj.bias', 'stages.1.blocks.0.norm2.weight', 'stages.1.blocks.0.norm2.bias', 'stages.1.blocks.0.ffn.layers.0.0.weight', 'stages.1.blocks.0.ffn.layers.0.0.bias', 'stages.1.blocks.0.ffn.layers.1.weight', 'stages.1.blocks.0.ffn.layers.1.bias', 'stages.1.blocks.1.norm1.weight', 'stages.1.blocks.1.norm1.bias', 'stages.1.blocks.1.attn.w_msa.qkv.weight', 'stages.1.blocks.1.attn.w_msa.qkv.bias', 'stages.1.blocks.1.attn.w_msa.proj.weight', 'stages.1.blocks.1.attn.w_msa.proj.bias', 'stages.1.blocks.1.norm2.weight', 'stages.1.blocks.1.norm2.bias', 'stages.1.blocks.1.ffn.layers.0.0.weight', 'stages.1.blocks.1.ffn.layers.0.0.bias', 'stages.1.blocks.1.ffn.layers.1.weight', 'stages.1.blocks.1.ffn.layers.1.bias', 'stages.1.downsample.norm.weight', 'stages.1.downsample.norm.bias', 'stages.2.blocks.0.norm1.weight', 'stages.2.blocks.0.norm1.bias', 'stages.2.blocks.0.attn.w_msa.qkv.weight', 'stages.2.blocks.0.attn.w_msa.qkv.bias', 'stages.2.blocks.0.attn.w_msa.proj.weight', 'stages.2.blocks.0.attn.w_msa.proj.bias', 'stages.2.blocks.0.norm2.weight', 'stages.2.blocks.0.norm2.bias', 'stages.2.blocks.0.ffn.layers.0.0.weight', 'stages.2.blocks.0.ffn.layers.0.0.bias', 'stages.2.blocks.0.ffn.layers.1.weight', 'stages.2.blocks.0.ffn.layers.1.bias', 'stages.2.blocks.1.norm1.weight', 'stages.2.blocks.1.norm1.bias', 'stages.2.blocks.1.attn.w_msa.qkv.weight', 'stages.2.blocks.1.attn.w_msa.qkv.bias', 'stages.2.blocks.1.attn.w_msa.proj.weight', 'stages.2.blocks.1.attn.w_msa.proj.bias', 'stages.2.blocks.1.norm2.weight', 'stages.2.blocks.1.norm2.bias', 'stages.2.blocks.1.ffn.layers.0.0.weight', 'stages.2.blocks.1.ffn.layers.0.0.bias', 'stages.2.blocks.1.ffn.layers.1.weight', 'stages.2.blocks.1.ffn.layers.1.bias', 'stages.2.blocks.2.norm1.weight', 'stages.2.blocks.2.norm1.bias', 'stages.2.blocks.2.attn.w_msa.qkv.weight', 'stages.2.blocks.2.attn.w_msa.qkv.bias', 'stages.2.blocks.2.attn.w_msa.proj.weight', 'stages.2.blocks.2.attn.w_msa.proj.bias', 'stages.2.blocks.2.norm2.weight', 'stages.2.blocks.2.norm2.bias', 'stages.2.blocks.2.ffn.layers.0.0.weight', 'stages.2.blocks.2.ffn.layers.0.0.bias', 'stages.2.blocks.2.ffn.layers.1.weight', 'stages.2.blocks.2.ffn.layers.1.bias', 'stages.2.blocks.3.norm1.weight', 'stages.2.blocks.3.norm1.bias', 'stages.2.blocks.3.attn.w_msa.qkv.weight', 'stages.2.blocks.3.attn.w_msa.qkv.bias', 'stages.2.blocks.3.attn.w_msa.proj.weight', 'stages.2.blocks.3.attn.w_msa.proj.bias', 'stages.2.blocks.3.norm2.weight', 'stages.2.blocks.3.norm2.bias', 'stages.2.blocks.3.ffn.layers.0.0.weight', 'stages.2.blocks.3.ffn.layers.0.0.bias', 'stages.2.blocks.3.ffn.layers.1.weight', 'stages.2.blocks.3.ffn.layers.1.bias', 'stages.2.blocks.4.norm1.weight', 'stages.2.blocks.4.norm1.bias', 'stages.2.blocks.4.attn.w_msa.qkv.weight', 'stages.2.blocks.4.attn.w_msa.qkv.bias', 'stages.2.blocks.4.attn.w_msa.proj.weight', 'stages.2.blocks.4.attn.w_msa.proj.bias', 'stages.2.blocks.4.norm2.weight', 'stages.2.blocks.4.norm2.bias', 'stages.2.blocks.4.ffn.layers.0.0.weight', 'stages.2.blocks.4.ffn.layers.0.0.bias', 'stages.2.blocks.4.ffn.layers.1.weight', 'stages.2.blocks.4.ffn.layers.1.bias', 'stages.2.blocks.5.norm1.weight', 'stages.2.blocks.5.norm1.bias', 'stages.2.blocks.5.attn.w_msa.qkv.weight', 'stages.2.blocks.5.attn.w_msa.qkv.bias', 'stages.2.blocks.5.attn.w_msa.proj.weight', 'stages.2.blocks.5.attn.w_msa.proj.bias', 'stages.2.blocks.5.norm2.weight', 'stages.2.blocks.5.norm2.bias', 'stages.2.blocks.5.ffn.layers.0.0.weight', 'stages.2.blocks.5.ffn.layers.0.0.bias', 'stages.2.blocks.5.ffn.layers.1.weight', 'stages.2.blocks.5.ffn.layers.1.bias', 'stages.2.downsample.norm.weight', 'stages.2.downsample.norm.bias', 'stages.3.blocks.0.norm1.weight', 'stages.3.blocks.0.norm1.bias', 'stages.3.blocks.0.attn.w_msa.qkv.weight', 'stages.3.blocks.0.attn.w_msa.qkv.bias', 'stages.3.blocks.0.attn.w_msa.proj.weight', 'stages.3.blocks.0.attn.w_msa.proj.bias', 'stages.3.blocks.0.norm2.weight', 'stages.3.blocks.0.norm2.bias', 'stages.3.blocks.0.ffn.layers.0.0.weight', 'stages.3.blocks.0.ffn.layers.0.0.bias', 'stages.3.blocks.0.ffn.layers.1.weight', 'stages.3.blocks.0.ffn.layers.1.bias', 'stages.3.blocks.1.norm1.weight', 'stages.3.blocks.1.norm1.bias', 'stages.3.blocks.1.attn.w_msa.qkv.weight', 'stages.3.blocks.1.attn.w_msa.qkv.bias', 'stages.3.blocks.1.attn.w_msa.proj.weight', 'stages.3.blocks.1.attn.w_msa.proj.bias', 'stages.3.blocks.1.norm2.weight', 'stages.3.blocks.1.norm2.bias', 'stages.3.blocks.1.ffn.layers.0.0.weight', 'stages.3.blocks.1.ffn.layers.0.0.bias', 'stages.3.blocks.1.ffn.layers.1.weight', 'stages.3.blocks.1.ffn.layers.1.bias', 'norm.weight', 'norm.bias', 'stages.0.blocks.0.attn.w_msa.relative_position_index', 'stages.0.blocks.1.attn.w_msa.relative_position_index', 'stages.1.blocks.0.attn.w_msa.relative_position_index', 'stages.1.blocks.1.attn.w_msa.relative_position_index', 'stages.2.blocks.0.attn.w_msa.relative_position_index', 'stages.2.blocks.1.attn.w_msa.relative_position_index', 'stages.2.blocks.2.attn.w_msa.relative_position_index', 'stages.2.blocks.3.attn.w_msa.relative_position_index', 'stages.2.blocks.4.attn.w_msa.relative_position_index', 'stages.2.blocks.5.attn.w_msa.relative_position_index', 'stages.3.blocks.0.attn.w_msa.relative_position_index', 'stages.3.blocks.1.attn.w_msa.relative_position_index', 'stages.0.blocks.1.attn_mask', 'stages.1.blocks.1.attn_mask', 'stages.2.blocks.1.attn_mask', 'stages.2.blocks.3.attn_mask', 'stages.2.blocks.5.attn_mask', 'stages.0.blocks.0.attn.w_msa.relative_position_bias_table', 'stages.0.blocks.1.attn.w_msa.relative_position_bias_table', 'stages.1.blocks.0.attn.w_msa.relative_position_bias_table', 'stages.1.blocks.1.attn.w_msa.relative_position_bias_table', 'stages.2.blocks.0.attn.w_msa.relative_position_bias_table', 'stages.2.blocks.1.attn.w_msa.relative_position_bias_table', 'stages.2.blocks.2.attn.w_msa.relative_position_bias_table', 'stages.2.blocks.3.attn.w_msa.relative_position_bias_table', 'stages.2.blocks.4.attn.w_msa.relative_position_bias_table', 'stages.2.blocks.5.attn.w_msa.relative_position_bias_table', 'stages.3.blocks.0.attn.w_msa.relative_position_bias_table', 'stages.3.blocks.1.attn.w_msa.relative_position_bias_table', 'stages.0.downsample.reduction.weight', 'stages.1.downsample.reduction.weight', 'stages.2.downsample.reduction.weight'])"
      ]
     },
     "execution_count": 16,
     "metadata": {},
     "output_type": "execute_result"
    }
   ],
   "source": [
    "state_dict.keys()"
   ]
  },
  {
   "cell_type": "code",
   "execution_count": null,
   "id": "699d8b0f-63b7-47fb-ab5e-f29b5b115658",
   "metadata": {},
   "outputs": [],
   "source": []
  }
 ],
 "metadata": {
  "kernelspec": {
   "display_name": "mmd1",
   "language": "python",
   "name": "mmd1"
  },
  "language_info": {
   "codemirror_mode": {
    "name": "ipython",
    "version": 3
   },
   "file_extension": ".py",
   "mimetype": "text/x-python",
   "name": "python",
   "nbconvert_exporter": "python",
   "pygments_lexer": "ipython3",
   "version": "3.8.12"
  }
 },
 "nbformat": 4,
 "nbformat_minor": 5
}
